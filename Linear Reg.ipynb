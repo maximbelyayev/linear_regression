{
 "cells": [
  {
   "cell_type": "code",
   "execution_count": 266,
   "id": "80f70e0e-63f5-493b-be92-a255b9bd9f89",
   "metadata": {},
   "outputs": [],
   "source": [
    "import pandas as pd\n",
    "import numpy as np\n",
    "import math"
   ]
  },
  {
   "cell_type": "code",
   "execution_count": 267,
   "id": "7331dc26-a612-4025-82ad-b2302d1fea44",
   "metadata": {},
   "outputs": [
    {
     "name": "stdout",
     "output_type": "stream",
     "text": [
      "Please enter the full filepath of the .csv file that contains variable data:\n"
     ]
    },
    {
     "name": "stdin",
     "output_type": "stream",
     "text": [
      " sales.csv\n"
     ]
    }
   ],
   "source": [
    "print(\"Please enter the full filepath of the .csv file that contains variable data:\")\n",
    "file = input()"
   ]
  },
  {
   "cell_type": "code",
   "execution_count": 268,
   "id": "eb55f9fc-8393-45a9-848e-6578d48726fd",
   "metadata": {},
   "outputs": [],
   "source": [
    "data = pd.read_csv(file)\n",
    "data = data.dropna()\n",
    "\n",
    "t_score = pd.read_csv(\"t_score (two-tailed).csv\")"
   ]
  },
  {
   "cell_type": "code",
   "execution_count": 269,
   "id": "9764f3f6-2996-4867-a4f6-7df9699a53e5",
   "metadata": {},
   "outputs": [],
   "source": [
    "with open(file, 'r') as f:\n",
    "    lines = f.readlines()\n",
    "    headers = lines[0].split(\",\")\n",
    "    new_headers = [header.replace(\"\\n\", \"\") for header in headers]"
   ]
  },
  {
   "cell_type": "code",
   "execution_count": 270,
   "id": "7add0046-48c5-42bb-9f27-1eec82304ece",
   "metadata": {},
   "outputs": [
    {
     "name": "stdout",
     "output_type": "stream",
     "text": [
      "Found the following headers in sales.csv:\n",
      "Month\n",
      "Unit Sales\n",
      "Price ($)\n",
      "Adexp ('000$)\n",
      "Promexp ('000$)\n",
      "\n",
      "\n",
      "Please enter the name of the dependent variable to be used in the regression:\n"
     ]
    },
    {
     "name": "stdin",
     "output_type": "stream",
     "text": [
      " Unit Sales\n"
     ]
    },
    {
     "name": "stdout",
     "output_type": "stream",
     "text": [
      "Please enter the name of the first explanatory variable to be used in the regression:\n"
     ]
    },
    {
     "name": "stdin",
     "output_type": "stream",
     "text": [
      " Price ($)\n"
     ]
    },
    {
     "name": "stdout",
     "output_type": "stream",
     "text": [
      "\n",
      "\n",
      "Current dependent variable: Unit Sales\n",
      "Current explanatory variable(s): ['Price ($)']\n",
      "\n",
      "\n",
      "Regression equation:\n",
      "Unit Sales = B0 + B1Price ($)\n",
      "\n",
      "\n",
      "Would you like to add another explanatory variable? (yes/no)\n"
     ]
    },
    {
     "name": "stdin",
     "output_type": "stream",
     "text": [
      " Adexp ('000$)\n"
     ]
    },
    {
     "name": "stdout",
     "output_type": "stream",
     "text": [
      "\n",
      "\n",
      "Not a valid entry. Would you like to add another explanatory variable? Please respond with either \"yes\" or \"no\".\n"
     ]
    },
    {
     "name": "stdin",
     "output_type": "stream",
     "text": [
      " yes\n"
     ]
    },
    {
     "name": "stdout",
     "output_type": "stream",
     "text": [
      "Please enter the name of the next explanatory variable to be used in the regression:\n"
     ]
    },
    {
     "name": "stdin",
     "output_type": "stream",
     "text": [
      " Adexp ('000$)\n"
     ]
    },
    {
     "name": "stdout",
     "output_type": "stream",
     "text": [
      "\n",
      "\n",
      "Current dependent variable: Unit Sales\n",
      "Current explanatory variable(s): ['Price ($)', \"Adexp ('000$)\"]\n",
      "\n",
      "\n",
      "Regression equation:\n",
      "Unit Sales = B0 + B1Price ($) + B2Adexp ('000$)\n",
      "\n",
      "\n",
      "Would you like to add another explanatory variable? (yes/no)\n"
     ]
    },
    {
     "name": "stdin",
     "output_type": "stream",
     "text": [
      " yes\n"
     ]
    },
    {
     "name": "stdout",
     "output_type": "stream",
     "text": [
      "\n",
      "\n",
      "Please enter the name of the next explanatory variable to be used in the regression:\n"
     ]
    },
    {
     "name": "stdin",
     "output_type": "stream",
     "text": [
      " Promexp ('000$)\n"
     ]
    },
    {
     "name": "stdout",
     "output_type": "stream",
     "text": [
      "\n",
      "\n",
      "Current dependent variable: Unit Sales\n",
      "Current explanatory variable(s): ['Price ($)', \"Adexp ('000$)\", \"Promexp ('000$)\"]\n",
      "\n",
      "\n",
      "Regression equation:\n",
      "Unit Sales = B0 + B1Price ($) + B2Adexp ('000$) + B3Promexp ('000$)\n",
      "\n",
      "\n",
      "Would you like to add another explanatory variable? (yes/no)\n"
     ]
    },
    {
     "name": "stdin",
     "output_type": "stream",
     "text": [
      " no\n"
     ]
    },
    {
     "name": "stdout",
     "output_type": "stream",
     "text": [
      "\n",
      "\n",
      "----------------------------------------------------------------------------------------------------\n",
      "\n",
      "\n",
      "Linear regression:\n",
      "Unit Sales = -25096.833 + -5055.27Price ($) + 648.612Adexp ('000$) + 1802.611Promexp ('000$)\n",
      "\n",
      "\n",
      "R-square:\n",
      "0.8588446525398429\n",
      "\n",
      "\n",
      "95% Confidence Interval for Intercept:\n",
      "(-76952.98780629659, 26759.321806296597)\n",
      "\n",
      "95% Confidence Interval for Price ($):\n",
      "(-6153.31841303105, -3957.2215869689508)\n",
      "\n",
      "95% Confidence Interval for Adexp ('000$):\n",
      "(212.63618320757598, 1084.5878167924238)\n",
      "\n",
      "95% Confidence Interval for Promexp ('000$):\n",
      "(983.1446538513691, 2622.077346148631)\n",
      "\n"
     ]
    }
   ],
   "source": [
    "print(\"Found the following headers in {}:\".format(file))\n",
    "for header in new_headers:\n",
    "    print(header)\n",
    "print(\"\\n\")\n",
    "\n",
    "variable_lst = []\n",
    "responses = [\"yes\", \"y\", \"no\", \"n\", \"quit\", \"exit\"]\n",
    "yes_no = 'yes'\n",
    "\n",
    "print(\"Please enter the name of the dependent variable to be used in the regression:\")\n",
    "dependent = input()\n",
    "while dependent not in new_headers:\n",
    "    print(\"Not a valid entry. Please re-enter the name of the dependent variable to be used in the regression:\")\n",
    "    dependent = input()\n",
    "variable_lst.append(dependent)\n",
    "\n",
    "while yes_no in responses[:2]:\n",
    "    if len(variable_lst) == 1:\n",
    "        print(\"Please enter the name of the first explanatory variable to be used in the regression:\")\n",
    "    else:\n",
    "        print(\"Please enter the name of the next explanatory variable to be used in the regression:\")\n",
    "    explanatory = input()\n",
    "    \n",
    "    while explanatory in variable_lst or explanatory not in new_headers:\n",
    "        if explanatory in variable_lst:\n",
    "            print(\"Variable already included in the regression. Please choose another variable.\")\n",
    "        else:\n",
    "            print(\"Not a valid entry. Please carefully re-enter the name of the explanatory variable to be used in the regression:\")\n",
    "        explanatory = input()\n",
    "    variable_lst.append(explanatory)\n",
    "    print(\"\\n\")\n",
    "    \n",
    "    print(\"Current dependent variable: {}\\nCurrent explanatory variable(s): {}\".format(dependent, variable_lst[1:]))\n",
    "    print(\"\\n\")\n",
    "    \n",
    "    reg_string_lst = []\n",
    "    reg_string_count = 1\n",
    "    for explanatory in variable_lst[1:]:\n",
    "        reg_string_lst.append(\" + B{}{}\".format(reg_string_count, explanatory))\n",
    "        reg_string_count +=1\n",
    "    reg_string = ''.join(reg_string_lst)\n",
    "    print(\"Regression equation:\\n{} = B0{}\".format(dependent, reg_string))\n",
    "    print(\"\\n\")\n",
    "    \n",
    "    print(\"Would you like to add another explanatory variable? (yes/no)\")\n",
    "    yes_no = input().lower()\n",
    "    print(\"\\n\")\n",
    "    \n",
    "    while yes_no not in responses:\n",
    "        print('Not a valid entry. Would you like to add another explanatory variable? Please respond with either \"yes\" or \"no\".')\n",
    "        yes_no = input().lower()\n",
    "        \n",
    "print(\"-\" * 100)\n",
    "print(\"\\n\")\n",
    "        \n",
    "### CALCULATIONS\n",
    "\n",
    "y = data[[dependent]]\n",
    "x = data[data.columns.intersection(variable_lst[1:])]\n",
    "x.insert(0, 'Intercept', 1)\n",
    "\n",
    "x_t = x.T\n",
    "beta = np.linalg.inv(x_t @ x) @ x_t @ y\n",
    "coef = beta[dependent].tolist()\n",
    "coef = [round(x, 3) for x in coef]\n",
    "\n",
    "reg_string_lst = []\n",
    "reg_string_count = 1\n",
    "for i in range(1, len(variable_lst)):\n",
    "    reg_string_lst.append(\" + {}{}\".format(coef[i], variable_lst[i]))\n",
    "    reg_string_count +=1\n",
    "reg_string = ''.join(reg_string_lst)\n",
    "print(\"Linear regression:\\n{} = {}{}\".format(dependent, coef[0], reg_string))\n",
    "print(\"\\n\")\n",
    "\n",
    "\n",
    "# R-square\n",
    "yhat = np.matmul(x, np.asarray(beta))\n",
    "y_bar = data[dependent].mean()\n",
    "sst = ((data[dependent] - y_bar)**2).sum()\n",
    "yhat = yhat.squeeze()\n",
    "sse = ((data[dependent] - yhat.squeeze())**2).sum()\n",
    "ssr = sst - sse\n",
    "r_square = ssr/sst\n",
    "print(\"R-square:\\n{}\".format(r_square))\n",
    "print(\"\\n\")\n",
    "\n",
    "\n",
    "# Confidence Interval (95%)\n",
    "df = data.shape[0]-(len(variable_lst[1:])+1)\n",
    "variance = sse/df\n",
    "c = np.linalg.inv(x_t @ x)\n",
    "\n",
    "t_critical = t_score[\"0.05\"][df - 1]\n",
    "\n",
    "standard_error_lst = []\n",
    "lower_95 = []\n",
    "upper_95 = []\n",
    "i = 0\n",
    "\n",
    "for header in x.columns.values.tolist():\n",
    "    lower_95.append(coef[i] - (t_critical * math.sqrt(variance * c[i][i])))\n",
    "    upper_95.append(coef[i] + (t_critical * math.sqrt(variance * c[i][i])))\n",
    "    i += 1\n",
    "    \n",
    "confidence_intervals = list(zip(lower_95, upper_95))\n",
    "\n",
    "i = 0\n",
    "for header in x.columns.values.tolist():\n",
    "    print(\"95% Confidence Interval for {}:\\n{}\\n\".format(header, confidence_intervals[i]))\n",
    "    i+= 1"
   ]
  },
  {
   "cell_type": "code",
   "execution_count": null,
   "id": "33ca808d-f89f-4d33-80f3-4c38ee272efb",
   "metadata": {},
   "outputs": [],
   "source": []
  }
 ],
 "metadata": {
  "kernelspec": {
   "display_name": "Python 3 (ipykernel)",
   "language": "python",
   "name": "python3"
  },
  "language_info": {
   "codemirror_mode": {
    "name": "ipython",
    "version": 3
   },
   "file_extension": ".py",
   "mimetype": "text/x-python",
   "name": "python",
   "nbconvert_exporter": "python",
   "pygments_lexer": "ipython3",
   "version": "3.9.12"
  }
 },
 "nbformat": 4,
 "nbformat_minor": 5
}
